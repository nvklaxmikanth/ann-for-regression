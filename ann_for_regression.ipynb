{
 "cells": [
  {
   "cell_type": "markdown",
   "id": "a6afe50b",
   "metadata": {},
   "source": [
    "# Artificial Neural Network"
   ]
  },
  {
   "cell_type": "markdown",
   "id": "63d555f4",
   "metadata": {},
   "source": [
    "### Importing the libraries"
   ]
  },
  {
   "cell_type": "code",
   "execution_count": 17,
   "id": "7c12d3ba",
   "metadata": {},
   "outputs": [],
   "source": [
    "import numpy as np\n",
    "import pandas as pd\n",
    "import tensorflow as tf"
   ]
  },
  {
   "cell_type": "code",
   "execution_count": 18,
   "id": "e85792e1",
   "metadata": {},
   "outputs": [
    {
     "data": {
      "text/plain": [
       "'2.8.0'"
      ]
     },
     "execution_count": 18,
     "metadata": {},
     "output_type": "execute_result"
    }
   ],
   "source": [
    "tf.__version__"
   ]
  },
  {
   "cell_type": "markdown",
   "id": "b842a6bd",
   "metadata": {},
   "source": [
    "## Data Preprocessing"
   ]
  },
  {
   "cell_type": "code",
   "execution_count": 19,
   "id": "3cad8833",
   "metadata": {},
   "outputs": [],
   "source": [
    "dataset = pd.read_excel('./data.xlsx')\n",
    "X = dataset.iloc[:, :-1].values\n",
    "y = dataset.iloc[:, -1].values"
   ]
  },
  {
   "cell_type": "code",
   "execution_count": 20,
   "id": "20ece080",
   "metadata": {},
   "outputs": [],
   "source": [
    "from sklearn.model_selection import train_test_split\n",
    "X_train, X_test, y_train, y_test = train_test_split(X, y, test_size = 0.2, random_state = 0)"
   ]
  },
  {
   "cell_type": "markdown",
   "id": "e2da6add",
   "metadata": {},
   "source": [
    "## Building the ANN"
   ]
  },
  {
   "cell_type": "code",
   "execution_count": 21,
   "id": "d34e3ea7",
   "metadata": {},
   "outputs": [],
   "source": [
    "model = tf.keras.models.Sequential()\n",
    "model.add(tf.keras.layers.Dense(units=6, activation='relu'))\n",
    "model.add(tf.keras.layers.Dense(units=6, activation='relu'))\n",
    "model.add(tf.keras.layers.Dense(units=1))"
   ]
  },
  {
   "cell_type": "markdown",
   "id": "55b0a56d",
   "metadata": {},
   "source": [
    "## Training the ANN"
   ]
  },
  {
   "cell_type": "code",
   "execution_count": 22,
   "id": "23cf9e37",
   "metadata": {},
   "outputs": [],
   "source": [
    "model.compile(optimizer = 'adam', loss = 'mean_squared_error')"
   ]
  },
  {
   "cell_type": "code",
   "execution_count": 23,
   "id": "7cad8ab5",
   "metadata": {},
   "outputs": [
    {
     "name": "stdout",
     "output_type": "stream",
     "text": [
      "Epoch 1/100\n",
      "240/240 [==============================] - 0s 581us/step - loss: 229731.4062\n",
      "Epoch 2/100\n",
      "240/240 [==============================] - 0s 569us/step - loss: 88637.8359\n",
      "Epoch 3/100\n",
      "240/240 [==============================] - 0s 592us/step - loss: 516.0797\n",
      "Epoch 4/100\n",
      "240/240 [==============================] - 0s 586us/step - loss: 357.2954\n",
      "Epoch 5/100\n",
      "240/240 [==============================] - 0s 584us/step - loss: 348.0450\n",
      "Epoch 6/100\n",
      "240/240 [==============================] - 0s 613us/step - loss: 337.3396\n",
      "Epoch 7/100\n",
      "240/240 [==============================] - 0s 580us/step - loss: 325.7058\n",
      "Epoch 8/100\n",
      "240/240 [==============================] - 0s 571us/step - loss: 312.1274\n",
      "Epoch 9/100\n",
      "240/240 [==============================] - 0s 588us/step - loss: 297.5493\n",
      "Epoch 10/100\n",
      "240/240 [==============================] - 0s 649us/step - loss: 282.2201\n",
      "Epoch 11/100\n",
      "240/240 [==============================] - 0s 614us/step - loss: 265.6035\n",
      "Epoch 12/100\n",
      "240/240 [==============================] - 0s 629us/step - loss: 248.1393\n",
      "Epoch 13/100\n",
      "240/240 [==============================] - 0s 605us/step - loss: 230.0903\n",
      "Epoch 14/100\n",
      "240/240 [==============================] - 0s 581us/step - loss: 211.6383\n",
      "Epoch 15/100\n",
      "240/240 [==============================] - 0s 656us/step - loss: 193.3275\n",
      "Epoch 16/100\n",
      "240/240 [==============================] - 0s 593us/step - loss: 174.9260\n",
      "Epoch 17/100\n",
      "240/240 [==============================] - 0s 577us/step - loss: 156.8028\n",
      "Epoch 18/100\n",
      "240/240 [==============================] - 0s 616us/step - loss: 138.9831\n",
      "Epoch 19/100\n",
      "240/240 [==============================] - 0s 665us/step - loss: 122.5473\n",
      "Epoch 20/100\n",
      "240/240 [==============================] - 0s 613us/step - loss: 107.2796\n",
      "Epoch 21/100\n",
      "240/240 [==============================] - 0s 609us/step - loss: 93.2469\n",
      "Epoch 22/100\n",
      "240/240 [==============================] - 0s 590us/step - loss: 82.7346\n",
      "Epoch 23/100\n",
      "240/240 [==============================] - 0s 598us/step - loss: 73.1749\n",
      "Epoch 24/100\n",
      "240/240 [==============================] - 0s 626us/step - loss: 64.8421\n",
      "Epoch 25/100\n",
      "240/240 [==============================] - 0s 579us/step - loss: 57.2923\n",
      "Epoch 26/100\n",
      "240/240 [==============================] - 0s 597us/step - loss: 50.6047\n",
      "Epoch 27/100\n",
      "240/240 [==============================] - 0s 636us/step - loss: 45.0917\n",
      "Epoch 28/100\n",
      "240/240 [==============================] - 0s 639us/step - loss: 40.1328\n",
      "Epoch 29/100\n",
      "240/240 [==============================] - 0s 635us/step - loss: 36.3704\n",
      "Epoch 30/100\n",
      "240/240 [==============================] - 0s 600us/step - loss: 32.7768\n",
      "Epoch 31/100\n",
      "240/240 [==============================] - 0s 614us/step - loss: 30.3799\n",
      "Epoch 32/100\n",
      "240/240 [==============================] - 0s 618us/step - loss: 29.1746\n",
      "Epoch 33/100\n",
      "240/240 [==============================] - 0s 626us/step - loss: 28.1388\n",
      "Epoch 34/100\n",
      "240/240 [==============================] - 0s 767us/step - loss: 27.9116\n",
      "Epoch 35/100\n",
      "240/240 [==============================] - 0s 629us/step - loss: 27.2590\n",
      "Epoch 36/100\n",
      "240/240 [==============================] - 0s 602us/step - loss: 27.0928\n",
      "Epoch 37/100\n",
      "240/240 [==============================] - 0s 598us/step - loss: 26.9336\n",
      "Epoch 38/100\n",
      "240/240 [==============================] - 0s 594us/step - loss: 27.0605\n",
      "Epoch 39/100\n",
      "240/240 [==============================] - 0s 641us/step - loss: 26.3813\n",
      "Epoch 40/100\n",
      "240/240 [==============================] - 0s 632us/step - loss: 26.7280\n",
      "Epoch 41/100\n",
      "240/240 [==============================] - 0s 607us/step - loss: 26.8358\n",
      "Epoch 42/100\n",
      "240/240 [==============================] - 0s 696us/step - loss: 26.5444\n",
      "Epoch 43/100\n",
      "240/240 [==============================] - 0s 587us/step - loss: 25.8856\n",
      "Epoch 44/100\n",
      "240/240 [==============================] - 0s 620us/step - loss: 26.1231\n",
      "Epoch 45/100\n",
      "240/240 [==============================] - 0s 626us/step - loss: 25.8819\n",
      "Epoch 46/100\n",
      "240/240 [==============================] - 0s 573us/step - loss: 26.4410\n",
      "Epoch 47/100\n",
      "240/240 [==============================] - 0s 591us/step - loss: 26.2889\n",
      "Epoch 48/100\n",
      "240/240 [==============================] - 0s 592us/step - loss: 25.8303\n",
      "Epoch 49/100\n",
      "240/240 [==============================] - 0s 608us/step - loss: 25.7043\n",
      "Epoch 50/100\n",
      "240/240 [==============================] - 0s 678us/step - loss: 25.9031\n",
      "Epoch 51/100\n",
      "240/240 [==============================] - 0s 737us/step - loss: 25.8664\n",
      "Epoch 52/100\n",
      "240/240 [==============================] - 0s 632us/step - loss: 25.3275\n",
      "Epoch 53/100\n",
      "240/240 [==============================] - 0s 910us/step - loss: 25.3346\n",
      "Epoch 54/100\n",
      "240/240 [==============================] - 0s 820us/step - loss: 25.7048\n",
      "Epoch 55/100\n",
      "240/240 [==============================] - 0s 1ms/step - loss: 25.5833\n",
      "Epoch 56/100\n",
      "240/240 [==============================] - 0s 1ms/step - loss: 25.3254\n",
      "Epoch 57/100\n",
      "240/240 [==============================] - 0s 2ms/step - loss: 25.3175\n",
      "Epoch 58/100\n",
      "240/240 [==============================] - 0s 2ms/step - loss: 25.4736\n",
      "Epoch 59/100\n",
      "240/240 [==============================] - 0s 2ms/step - loss: 24.9450\n",
      "Epoch 60/100\n",
      "240/240 [==============================] - 0s 2ms/step - loss: 25.5699\n",
      "Epoch 61/100\n",
      "240/240 [==============================] - 1s 2ms/step - loss: 25.5235\n",
      "Epoch 62/100\n",
      "240/240 [==============================] - 0s 2ms/step - loss: 25.1554\n",
      "Epoch 63/100\n",
      "240/240 [==============================] - 0s 2ms/step - loss: 25.1147\n",
      "Epoch 64/100\n",
      "240/240 [==============================] - 0s 2ms/step - loss: 25.0068\n",
      "Epoch 65/100\n",
      "240/240 [==============================] - 0s 2ms/step - loss: 24.8057\n",
      "Epoch 66/100\n",
      "240/240 [==============================] - 0s 2ms/step - loss: 25.2334\n",
      "Epoch 67/100\n",
      "240/240 [==============================] - 0s 2ms/step - loss: 25.3053\n",
      "Epoch 68/100\n",
      "240/240 [==============================] - 0s 2ms/step - loss: 24.4001\n",
      "Epoch 69/100\n",
      "240/240 [==============================] - 0s 2ms/step - loss: 24.9554\n",
      "Epoch 70/100\n",
      "240/240 [==============================] - 0s 2ms/step - loss: 25.0130\n",
      "Epoch 71/100\n",
      "240/240 [==============================] - 0s 2ms/step - loss: 24.9211\n",
      "Epoch 72/100\n",
      "240/240 [==============================] - 0s 2ms/step - loss: 24.9879\n",
      "Epoch 73/100\n",
      "240/240 [==============================] - 0s 1ms/step - loss: 25.0375\n",
      "Epoch 74/100\n",
      "240/240 [==============================] - 0s 1ms/step - loss: 24.4397\n",
      "Epoch 75/100\n",
      "240/240 [==============================] - 0s 2ms/step - loss: 24.8712\n",
      "Epoch 76/100\n",
      "240/240 [==============================] - 0s 1ms/step - loss: 24.7556\n",
      "Epoch 77/100\n",
      "240/240 [==============================] - 0s 2ms/step - loss: 24.4265\n",
      "Epoch 78/100\n",
      "240/240 [==============================] - 0s 2ms/step - loss: 25.0706\n",
      "Epoch 79/100\n",
      "240/240 [==============================] - 0s 2ms/step - loss: 24.6405\n",
      "Epoch 80/100\n",
      "240/240 [==============================] - 0s 2ms/step - loss: 24.7703\n",
      "Epoch 81/100\n",
      "240/240 [==============================] - 0s 1ms/step - loss: 24.5545\n",
      "Epoch 82/100\n",
      "240/240 [==============================] - 0s 1ms/step - loss: 24.3660\n",
      "Epoch 83/100\n",
      "240/240 [==============================] - 0s 2ms/step - loss: 24.2966\n",
      "Epoch 84/100\n",
      "240/240 [==============================] - 0s 1ms/step - loss: 24.7601\n",
      "Epoch 85/100\n",
      "240/240 [==============================] - 0s 2ms/step - loss: 24.4618\n",
      "Epoch 86/100\n",
      "240/240 [==============================] - 0s 1ms/step - loss: 24.4716\n",
      "Epoch 87/100\n",
      "240/240 [==============================] - 0s 2ms/step - loss: 24.3871\n",
      "Epoch 88/100\n",
      "240/240 [==============================] - 0s 1ms/step - loss: 24.5046\n",
      "Epoch 89/100\n",
      "240/240 [==============================] - 0s 1ms/step - loss: 24.5880\n",
      "Epoch 90/100\n",
      "240/240 [==============================] - 0s 1ms/step - loss: 24.3167\n",
      "Epoch 91/100\n",
      "240/240 [==============================] - 0s 1ms/step - loss: 24.4907\n",
      "Epoch 92/100\n",
      "240/240 [==============================] - 0s 1ms/step - loss: 25.0383\n",
      "Epoch 93/100\n",
      "240/240 [==============================] - 0s 1ms/step - loss: 24.6994\n",
      "Epoch 94/100\n",
      "240/240 [==============================] - 0s 1ms/step - loss: 24.6855\n",
      "Epoch 95/100\n",
      "240/240 [==============================] - 0s 1ms/step - loss: 24.9438\n",
      "Epoch 96/100\n",
      "240/240 [==============================] - 0s 1ms/step - loss: 24.5030\n",
      "Epoch 97/100\n"
     ]
    },
    {
     "name": "stdout",
     "output_type": "stream",
     "text": [
      "240/240 [==============================] - 0s 1ms/step - loss: 24.7763\n",
      "Epoch 98/100\n",
      "240/240 [==============================] - 0s 1ms/step - loss: 24.2552\n",
      "Epoch 99/100\n",
      "240/240 [==============================] - 0s 1ms/step - loss: 24.5608\n",
      "Epoch 100/100\n",
      "240/240 [==============================] - 0s 1ms/step - loss: 24.6879\n"
     ]
    },
    {
     "data": {
      "text/plain": [
       "<keras.callbacks.History at 0x242a4941d30>"
      ]
     },
     "execution_count": 23,
     "metadata": {},
     "output_type": "execute_result"
    }
   ],
   "source": [
    "model.fit(X_train, y_train, batch_size = 32, epochs = 100)"
   ]
  },
  {
   "cell_type": "code",
   "execution_count": 24,
   "id": "6cfa8362",
   "metadata": {},
   "outputs": [],
   "source": [
    "y_pred = model.predict(X_test)"
   ]
  },
  {
   "cell_type": "code",
   "execution_count": 25,
   "id": "bf78a2d4",
   "metadata": {},
   "outputs": [
    {
     "name": "stdout",
     "output_type": "stream",
     "text": [
      "[[433.06 431.23]\n",
      " [461.17 460.01]\n",
      " [467.46 461.14]\n",
      " ...\n",
      " [473.37 473.26]\n",
      " [439.39 438.  ]\n",
      " [458.62 463.28]]\n"
     ]
    }
   ],
   "source": [
    "np.set_printoptions(precision=2)\n",
    "print(np.concatenate((y_pred.reshape(len(y_pred),1), y_test.reshape(len(y_test),1)),1))"
   ]
  }
 ],
 "metadata": {
  "kernelspec": {
   "display_name": "Python 3 (ipykernel)",
   "language": "python",
   "name": "python3"
  },
  "language_info": {
   "codemirror_mode": {
    "name": "ipython",
    "version": 3
   },
   "file_extension": ".py",
   "mimetype": "text/x-python",
   "name": "python",
   "nbconvert_exporter": "python",
   "pygments_lexer": "ipython3",
   "version": "3.9.7"
  }
 },
 "nbformat": 4,
 "nbformat_minor": 5
}
